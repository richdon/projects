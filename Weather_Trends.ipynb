{
 "cells": [
  {
   "cell_type": "markdown",
   "metadata": {},
   "source": [
    "# **Exploring Weather Trends Project**\n",
    "## In this notebook we will be analyzing the average weather trends in New York vs average global weather trends over roughly 250 years. "
   ]
  },
  {
   "cell_type": "markdown",
   "metadata": {},
   "source": [
    "### The data has been exported from a relational database into a .csv file.\n",
    "### The SQL query used to do this was: \n",
    "SELECT city_data.year,city_data.country, city_data.city, city_data.avg_temp, global_data.avg_temp AS global_avg_temp  \n",
    "FROM  city_data JOIN global_data  \n",
    "ON city_data.year = global_data.year  \n",
    "WHERE city_data.city = 'New York';"
   ]
  },
  {
   "cell_type": "markdown",
   "metadata": {},
   "source": [
    "### Let's import the data set and the libraries. "
   ]
  },
  {
   "cell_type": "code",
   "execution_count": 1,
   "metadata": {},
   "outputs": [
    {
     "data": {
      "text/html": [
       "<div>\n",
       "<style scoped>\n",
       "    .dataframe tbody tr th:only-of-type {\n",
       "        vertical-align: middle;\n",
       "    }\n",
       "\n",
       "    .dataframe tbody tr th {\n",
       "        vertical-align: top;\n",
       "    }\n",
       "\n",
       "    .dataframe thead th {\n",
       "        text-align: right;\n",
       "    }\n",
       "</style>\n",
       "<table border=\"1\" class=\"dataframe\">\n",
       "  <thead>\n",
       "    <tr style=\"text-align: right;\">\n",
       "      <th></th>\n",
       "      <th>year</th>\n",
       "      <th>country</th>\n",
       "      <th>city</th>\n",
       "      <th>avg_temp</th>\n",
       "      <th>global_avg_temp</th>\n",
       "    </tr>\n",
       "  </thead>\n",
       "  <tbody>\n",
       "    <tr>\n",
       "      <td>0</td>\n",
       "      <td>1750</td>\n",
       "      <td>United States</td>\n",
       "      <td>New York</td>\n",
       "      <td>10.07</td>\n",
       "      <td>8.72</td>\n",
       "    </tr>\n",
       "    <tr>\n",
       "      <td>1</td>\n",
       "      <td>1751</td>\n",
       "      <td>United States</td>\n",
       "      <td>New York</td>\n",
       "      <td>10.79</td>\n",
       "      <td>7.98</td>\n",
       "    </tr>\n",
       "    <tr>\n",
       "      <td>2</td>\n",
       "      <td>1752</td>\n",
       "      <td>United States</td>\n",
       "      <td>New York</td>\n",
       "      <td>2.81</td>\n",
       "      <td>5.78</td>\n",
       "    </tr>\n",
       "  </tbody>\n",
       "</table>\n",
       "</div>"
      ],
      "text/plain": [
       "   year        country      city  avg_temp  global_avg_temp\n",
       "0  1750  United States  New York     10.07             8.72\n",
       "1  1751  United States  New York     10.79             7.98\n",
       "2  1752  United States  New York      2.81             5.78"
      ]
     },
     "execution_count": 1,
     "metadata": {},
     "output_type": "execute_result"
    }
   ],
   "source": [
    "# import libraries\n",
    "import pandas as pd\n",
    "import matplotlib.pyplot as plt\n",
    "%matplotlib inline \n",
    "\n",
    "# read the data into a dataframe\n",
    "df = pd.read_csv('results.csv')\n",
    "df.head(3)"
   ]
  },
  {
   "cell_type": "markdown",
   "metadata": {},
   "source": [
    "### Lets explore the data set by viewing the types, some statistics, and the shape."
   ]
  },
  {
   "cell_type": "code",
   "execution_count": 2,
   "metadata": {},
   "outputs": [
    {
     "name": "stdout",
     "output_type": "stream",
     "text": [
      "<class 'pandas.core.frame.DataFrame'>\n",
      "RangeIndex: 264 entries, 0 to 263\n",
      "Data columns (total 5 columns):\n",
      "year               264 non-null int64\n",
      "country            264 non-null object\n",
      "city               264 non-null object\n",
      "avg_temp           263 non-null float64\n",
      "global_avg_temp    264 non-null float64\n",
      "dtypes: float64(2), int64(1), object(2)\n",
      "memory usage: 10.4+ KB\n"
     ]
    }
   ],
   "source": [
    "# the data types are int, float and string, we are missing some data\n",
    "\n",
    "df.info()"
   ]
  },
  {
   "cell_type": "code",
   "execution_count": 3,
   "metadata": {},
   "outputs": [
    {
     "data": {
      "text/html": [
       "<div>\n",
       "<style scoped>\n",
       "    .dataframe tbody tr th:only-of-type {\n",
       "        vertical-align: middle;\n",
       "    }\n",
       "\n",
       "    .dataframe tbody tr th {\n",
       "        vertical-align: top;\n",
       "    }\n",
       "\n",
       "    .dataframe thead th {\n",
       "        text-align: right;\n",
       "    }\n",
       "</style>\n",
       "<table border=\"1\" class=\"dataframe\">\n",
       "  <thead>\n",
       "    <tr style=\"text-align: right;\">\n",
       "      <th></th>\n",
       "      <th>year</th>\n",
       "      <th>avg_temp</th>\n",
       "      <th>global_avg_temp</th>\n",
       "    </tr>\n",
       "  </thead>\n",
       "  <tbody>\n",
       "    <tr>\n",
       "      <td>count</td>\n",
       "      <td>264.000000</td>\n",
       "      <td>263.000000</td>\n",
       "      <td>264.000000</td>\n",
       "    </tr>\n",
       "    <tr>\n",
       "      <td>mean</td>\n",
       "      <td>1881.500000</td>\n",
       "      <td>9.486882</td>\n",
       "      <td>8.359394</td>\n",
       "    </tr>\n",
       "    <tr>\n",
       "      <td>std</td>\n",
       "      <td>76.354437</td>\n",
       "      <td>1.099282</td>\n",
       "      <td>0.575184</td>\n",
       "    </tr>\n",
       "    <tr>\n",
       "      <td>min</td>\n",
       "      <td>1750.000000</td>\n",
       "      <td>0.250000</td>\n",
       "      <td>5.780000</td>\n",
       "    </tr>\n",
       "    <tr>\n",
       "      <td>25%</td>\n",
       "      <td>1815.750000</td>\n",
       "      <td>9.070000</td>\n",
       "      <td>8.077500</td>\n",
       "    </tr>\n",
       "    <tr>\n",
       "      <td>50%</td>\n",
       "      <td>1881.500000</td>\n",
       "      <td>9.550000</td>\n",
       "      <td>8.365000</td>\n",
       "    </tr>\n",
       "    <tr>\n",
       "      <td>75%</td>\n",
       "      <td>1947.250000</td>\n",
       "      <td>10.025000</td>\n",
       "      <td>8.700000</td>\n",
       "    </tr>\n",
       "    <tr>\n",
       "      <td>max</td>\n",
       "      <td>2013.000000</td>\n",
       "      <td>12.160000</td>\n",
       "      <td>9.730000</td>\n",
       "    </tr>\n",
       "  </tbody>\n",
       "</table>\n",
       "</div>"
      ],
      "text/plain": [
       "              year    avg_temp  global_avg_temp\n",
       "count   264.000000  263.000000       264.000000\n",
       "mean   1881.500000    9.486882         8.359394\n",
       "std      76.354437    1.099282         0.575184\n",
       "min    1750.000000    0.250000         5.780000\n",
       "25%    1815.750000    9.070000         8.077500\n",
       "50%    1881.500000    9.550000         8.365000\n",
       "75%    1947.250000   10.025000         8.700000\n",
       "max    2013.000000   12.160000         9.730000"
      ]
     },
     "execution_count": 3,
     "metadata": {},
     "output_type": "execute_result"
    }
   ],
   "source": [
    "# already we see that the NY average/max temperature is higher than the global temperature. And, NY's min temp is significantly lower than the global min and the rest of NY temps.\n",
    "# Therefore it is possible that the recorded temperature 0.25 is an error\n",
    "\n",
    "df.describe()"
   ]
  },
  {
   "cell_type": "code",
   "execution_count": 4,
   "metadata": {},
   "outputs": [
    {
     "data": {
      "text/plain": [
       "(264, 5)"
      ]
     },
     "execution_count": 4,
     "metadata": {},
     "output_type": "execute_result"
    }
   ],
   "source": [
    "# we have 264 rows or years, and 5 columns\n",
    "\n",
    "df.shape"
   ]
  },
  {
   "cell_type": "markdown",
   "metadata": {},
   "source": [
    "### We are going to keep the data types but we are going to drop rows that contain missing data"
   ]
  },
  {
   "cell_type": "code",
   "execution_count": 5,
   "metadata": {},
   "outputs": [],
   "source": [
    "df.dropna(axis = 0, inplace = True)"
   ]
  },
  {
   "cell_type": "code",
   "execution_count": 6,
   "metadata": {},
   "outputs": [
    {
     "data": {
      "text/plain": [
       "year               0\n",
       "country            0\n",
       "city               0\n",
       "avg_temp           0\n",
       "global_avg_temp    0\n",
       "dtype: int64"
      ]
     },
     "execution_count": 6,
     "metadata": {},
     "output_type": "execute_result"
    }
   ],
   "source": [
    "df.isnull().sum()"
   ]
  },
  {
   "cell_type": "markdown",
   "metadata": {},
   "source": [
    "### Now we will create two new columns in the data frame for a 10 year moving average of the avg_temp, and global_avg_temp."
   ]
  },
  {
   "cell_type": "code",
   "execution_count": 7,
   "metadata": {},
   "outputs": [],
   "source": [
    "df['10_year_ma_temp'] = df['avg_temp'].rolling(10).mean()\n",
    "df['10_year_global_ma_temp'] = df['global_avg_temp'].rolling(10).mean()"
   ]
  },
  {
   "cell_type": "code",
   "execution_count": 8,
   "metadata": {},
   "outputs": [
    {
     "data": {
      "text/html": [
       "<div>\n",
       "<style scoped>\n",
       "    .dataframe tbody tr th:only-of-type {\n",
       "        vertical-align: middle;\n",
       "    }\n",
       "\n",
       "    .dataframe tbody tr th {\n",
       "        vertical-align: top;\n",
       "    }\n",
       "\n",
       "    .dataframe thead th {\n",
       "        text-align: right;\n",
       "    }\n",
       "</style>\n",
       "<table border=\"1\" class=\"dataframe\">\n",
       "  <thead>\n",
       "    <tr style=\"text-align: right;\">\n",
       "      <th></th>\n",
       "      <th>year</th>\n",
       "      <th>country</th>\n",
       "      <th>city</th>\n",
       "      <th>avg_temp</th>\n",
       "      <th>global_avg_temp</th>\n",
       "      <th>10_year_ma_temp</th>\n",
       "      <th>10_year_global_ma_temp</th>\n",
       "    </tr>\n",
       "  </thead>\n",
       "  <tbody>\n",
       "    <tr>\n",
       "      <td>0</td>\n",
       "      <td>1750</td>\n",
       "      <td>United States</td>\n",
       "      <td>New York</td>\n",
       "      <td>10.07</td>\n",
       "      <td>8.72</td>\n",
       "      <td>NaN</td>\n",
       "      <td>NaN</td>\n",
       "    </tr>\n",
       "    <tr>\n",
       "      <td>1</td>\n",
       "      <td>1751</td>\n",
       "      <td>United States</td>\n",
       "      <td>New York</td>\n",
       "      <td>10.79</td>\n",
       "      <td>7.98</td>\n",
       "      <td>NaN</td>\n",
       "      <td>NaN</td>\n",
       "    </tr>\n",
       "    <tr>\n",
       "      <td>2</td>\n",
       "      <td>1752</td>\n",
       "      <td>United States</td>\n",
       "      <td>New York</td>\n",
       "      <td>2.81</td>\n",
       "      <td>5.78</td>\n",
       "      <td>NaN</td>\n",
       "      <td>NaN</td>\n",
       "    </tr>\n",
       "    <tr>\n",
       "      <td>3</td>\n",
       "      <td>1753</td>\n",
       "      <td>United States</td>\n",
       "      <td>New York</td>\n",
       "      <td>9.52</td>\n",
       "      <td>8.39</td>\n",
       "      <td>NaN</td>\n",
       "      <td>NaN</td>\n",
       "    </tr>\n",
       "    <tr>\n",
       "      <td>4</td>\n",
       "      <td>1754</td>\n",
       "      <td>United States</td>\n",
       "      <td>New York</td>\n",
       "      <td>9.88</td>\n",
       "      <td>8.47</td>\n",
       "      <td>NaN</td>\n",
       "      <td>NaN</td>\n",
       "    </tr>\n",
       "    <tr>\n",
       "      <td>5</td>\n",
       "      <td>1755</td>\n",
       "      <td>United States</td>\n",
       "      <td>New York</td>\n",
       "      <td>6.61</td>\n",
       "      <td>8.36</td>\n",
       "      <td>NaN</td>\n",
       "      <td>NaN</td>\n",
       "    </tr>\n",
       "    <tr>\n",
       "      <td>6</td>\n",
       "      <td>1756</td>\n",
       "      <td>United States</td>\n",
       "      <td>New York</td>\n",
       "      <td>9.94</td>\n",
       "      <td>8.85</td>\n",
       "      <td>NaN</td>\n",
       "      <td>NaN</td>\n",
       "    </tr>\n",
       "    <tr>\n",
       "      <td>7</td>\n",
       "      <td>1757</td>\n",
       "      <td>United States</td>\n",
       "      <td>New York</td>\n",
       "      <td>8.89</td>\n",
       "      <td>9.02</td>\n",
       "      <td>NaN</td>\n",
       "      <td>NaN</td>\n",
       "    </tr>\n",
       "    <tr>\n",
       "      <td>8</td>\n",
       "      <td>1758</td>\n",
       "      <td>United States</td>\n",
       "      <td>New York</td>\n",
       "      <td>8.15</td>\n",
       "      <td>6.74</td>\n",
       "      <td>NaN</td>\n",
       "      <td>NaN</td>\n",
       "    </tr>\n",
       "    <tr>\n",
       "      <td>9</td>\n",
       "      <td>1759</td>\n",
       "      <td>United States</td>\n",
       "      <td>New York</td>\n",
       "      <td>9.01</td>\n",
       "      <td>7.99</td>\n",
       "      <td>8.567</td>\n",
       "      <td>8.03</td>\n",
       "    </tr>\n",
       "  </tbody>\n",
       "</table>\n",
       "</div>"
      ],
      "text/plain": [
       "   year        country      city  avg_temp  global_avg_temp  10_year_ma_temp  \\\n",
       "0  1750  United States  New York     10.07             8.72              NaN   \n",
       "1  1751  United States  New York     10.79             7.98              NaN   \n",
       "2  1752  United States  New York      2.81             5.78              NaN   \n",
       "3  1753  United States  New York      9.52             8.39              NaN   \n",
       "4  1754  United States  New York      9.88             8.47              NaN   \n",
       "5  1755  United States  New York      6.61             8.36              NaN   \n",
       "6  1756  United States  New York      9.94             8.85              NaN   \n",
       "7  1757  United States  New York      8.89             9.02              NaN   \n",
       "8  1758  United States  New York      8.15             6.74              NaN   \n",
       "9  1759  United States  New York      9.01             7.99            8.567   \n",
       "\n",
       "   10_year_global_ma_temp  \n",
       "0                     NaN  \n",
       "1                     NaN  \n",
       "2                     NaN  \n",
       "3                     NaN  \n",
       "4                     NaN  \n",
       "5                     NaN  \n",
       "6                     NaN  \n",
       "7                     NaN  \n",
       "8                     NaN  \n",
       "9                    8.03  "
      ]
     },
     "execution_count": 8,
     "metadata": {},
     "output_type": "execute_result"
    }
   ],
   "source": [
    "df.head(10)"
   ]
  },
  {
   "cell_type": "markdown",
   "metadata": {},
   "source": [
    "### Lets create a dataframe with only 10 year intervals "
   ]
  },
  {
   "cell_type": "code",
   "execution_count": 9,
   "metadata": {},
   "outputs": [],
   "source": [
    "df_ma = df.query('year % 10 == 0')  "
   ]
  },
  {
   "cell_type": "code",
   "execution_count": 10,
   "metadata": {},
   "outputs": [
    {
     "data": {
      "text/html": [
       "<div>\n",
       "<style scoped>\n",
       "    .dataframe tbody tr th:only-of-type {\n",
       "        vertical-align: middle;\n",
       "    }\n",
       "\n",
       "    .dataframe tbody tr th {\n",
       "        vertical-align: top;\n",
       "    }\n",
       "\n",
       "    .dataframe thead th {\n",
       "        text-align: right;\n",
       "    }\n",
       "</style>\n",
       "<table border=\"1\" class=\"dataframe\">\n",
       "  <thead>\n",
       "    <tr style=\"text-align: right;\">\n",
       "      <th></th>\n",
       "      <th>year</th>\n",
       "      <th>country</th>\n",
       "      <th>city</th>\n",
       "      <th>avg_temp</th>\n",
       "      <th>global_avg_temp</th>\n",
       "      <th>10_year_ma_temp</th>\n",
       "      <th>10_year_global_ma_temp</th>\n",
       "    </tr>\n",
       "  </thead>\n",
       "  <tbody>\n",
       "    <tr>\n",
       "      <td>0</td>\n",
       "      <td>1750</td>\n",
       "      <td>United States</td>\n",
       "      <td>New York</td>\n",
       "      <td>10.07</td>\n",
       "      <td>8.72</td>\n",
       "      <td>NaN</td>\n",
       "      <td>NaN</td>\n",
       "    </tr>\n",
       "    <tr>\n",
       "      <td>10</td>\n",
       "      <td>1760</td>\n",
       "      <td>United States</td>\n",
       "      <td>New York</td>\n",
       "      <td>7.73</td>\n",
       "      <td>7.19</td>\n",
       "      <td>8.333</td>\n",
       "      <td>7.877</td>\n",
       "    </tr>\n",
       "    <tr>\n",
       "      <td>20</td>\n",
       "      <td>1770</td>\n",
       "      <td>United States</td>\n",
       "      <td>New York</td>\n",
       "      <td>9.04</td>\n",
       "      <td>7.69</td>\n",
       "      <td>9.089</td>\n",
       "      <td>8.032</td>\n",
       "    </tr>\n",
       "    <tr>\n",
       "      <td>40</td>\n",
       "      <td>1790</td>\n",
       "      <td>United States</td>\n",
       "      <td>New York</td>\n",
       "      <td>9.39</td>\n",
       "      <td>7.98</td>\n",
       "      <td>9.117</td>\n",
       "      <td>7.995</td>\n",
       "    </tr>\n",
       "    <tr>\n",
       "      <td>50</td>\n",
       "      <td>1800</td>\n",
       "      <td>United States</td>\n",
       "      <td>New York</td>\n",
       "      <td>9.58</td>\n",
       "      <td>8.48</td>\n",
       "      <td>9.331</td>\n",
       "      <td>8.387</td>\n",
       "    </tr>\n",
       "    <tr>\n",
       "      <td>60</td>\n",
       "      <td>1810</td>\n",
       "      <td>United States</td>\n",
       "      <td>New York</td>\n",
       "      <td>9.35</td>\n",
       "      <td>6.92</td>\n",
       "      <td>9.682</td>\n",
       "      <td>8.141</td>\n",
       "    </tr>\n",
       "    <tr>\n",
       "      <td>70</td>\n",
       "      <td>1820</td>\n",
       "      <td>United States</td>\n",
       "      <td>New York</td>\n",
       "      <td>8.98</td>\n",
       "      <td>7.62</td>\n",
       "      <td>8.501</td>\n",
       "      <td>7.322</td>\n",
       "    </tr>\n",
       "    <tr>\n",
       "      <td>80</td>\n",
       "      <td>1830</td>\n",
       "      <td>United States</td>\n",
       "      <td>New York</td>\n",
       "      <td>10.32</td>\n",
       "      <td>8.52</td>\n",
       "      <td>9.588</td>\n",
       "      <td>8.274</td>\n",
       "    </tr>\n",
       "    <tr>\n",
       "      <td>90</td>\n",
       "      <td>1840</td>\n",
       "      <td>United States</td>\n",
       "      <td>New York</td>\n",
       "      <td>9.27</td>\n",
       "      <td>7.80</td>\n",
       "      <td>8.797</td>\n",
       "      <td>7.666</td>\n",
       "    </tr>\n",
       "    <tr>\n",
       "      <td>100</td>\n",
       "      <td>1850</td>\n",
       "      <td>United States</td>\n",
       "      <td>New York</td>\n",
       "      <td>9.10</td>\n",
       "      <td>7.90</td>\n",
       "      <td>9.194</td>\n",
       "      <td>7.988</td>\n",
       "    </tr>\n",
       "    <tr>\n",
       "      <td>110</td>\n",
       "      <td>1860</td>\n",
       "      <td>United States</td>\n",
       "      <td>New York</td>\n",
       "      <td>9.18</td>\n",
       "      <td>7.96</td>\n",
       "      <td>9.079</td>\n",
       "      <td>8.071</td>\n",
       "    </tr>\n",
       "    <tr>\n",
       "      <td>120</td>\n",
       "      <td>1870</td>\n",
       "      <td>United States</td>\n",
       "      <td>New York</td>\n",
       "      <td>10.04</td>\n",
       "      <td>8.20</td>\n",
       "      <td>9.087</td>\n",
       "      <td>8.129</td>\n",
       "    </tr>\n",
       "    <tr>\n",
       "      <td>130</td>\n",
       "      <td>1880</td>\n",
       "      <td>United States</td>\n",
       "      <td>New York</td>\n",
       "      <td>9.99</td>\n",
       "      <td>8.12</td>\n",
       "      <td>9.203</td>\n",
       "      <td>8.269</td>\n",
       "    </tr>\n",
       "    <tr>\n",
       "      <td>140</td>\n",
       "      <td>1890</td>\n",
       "      <td>United States</td>\n",
       "      <td>New York</td>\n",
       "      <td>9.62</td>\n",
       "      <td>7.97</td>\n",
       "      <td>9.110</td>\n",
       "      <td>8.031</td>\n",
       "    </tr>\n",
       "    <tr>\n",
       "      <td>150</td>\n",
       "      <td>1900</td>\n",
       "      <td>United States</td>\n",
       "      <td>New York</td>\n",
       "      <td>10.40</td>\n",
       "      <td>8.50</td>\n",
       "      <td>9.629</td>\n",
       "      <td>8.204</td>\n",
       "    </tr>\n",
       "    <tr>\n",
       "      <td>160</td>\n",
       "      <td>1910</td>\n",
       "      <td>United States</td>\n",
       "      <td>New York</td>\n",
       "      <td>9.55</td>\n",
       "      <td>8.22</td>\n",
       "      <td>9.233</td>\n",
       "      <td>8.230</td>\n",
       "    </tr>\n",
       "    <tr>\n",
       "      <td>170</td>\n",
       "      <td>1920</td>\n",
       "      <td>United States</td>\n",
       "      <td>New York</td>\n",
       "      <td>9.19</td>\n",
       "      <td>8.36</td>\n",
       "      <td>9.487</td>\n",
       "      <td>8.295</td>\n",
       "    </tr>\n",
       "    <tr>\n",
       "      <td>180</td>\n",
       "      <td>1930</td>\n",
       "      <td>United States</td>\n",
       "      <td>New York</td>\n",
       "      <td>10.22</td>\n",
       "      <td>8.63</td>\n",
       "      <td>9.728</td>\n",
       "      <td>8.519</td>\n",
       "    </tr>\n",
       "    <tr>\n",
       "      <td>190</td>\n",
       "      <td>1940</td>\n",
       "      <td>United States</td>\n",
       "      <td>New York</td>\n",
       "      <td>8.53</td>\n",
       "      <td>8.76</td>\n",
       "      <td>9.952</td>\n",
       "      <td>8.655</td>\n",
       "    </tr>\n",
       "    <tr>\n",
       "      <td>200</td>\n",
       "      <td>1950</td>\n",
       "      <td>United States</td>\n",
       "      <td>New York</td>\n",
       "      <td>9.72</td>\n",
       "      <td>8.37</td>\n",
       "      <td>10.116</td>\n",
       "      <td>8.688</td>\n",
       "    </tr>\n",
       "  </tbody>\n",
       "</table>\n",
       "</div>"
      ],
      "text/plain": [
       "     year        country      city  avg_temp  global_avg_temp  \\\n",
       "0    1750  United States  New York     10.07             8.72   \n",
       "10   1760  United States  New York      7.73             7.19   \n",
       "20   1770  United States  New York      9.04             7.69   \n",
       "40   1790  United States  New York      9.39             7.98   \n",
       "50   1800  United States  New York      9.58             8.48   \n",
       "60   1810  United States  New York      9.35             6.92   \n",
       "70   1820  United States  New York      8.98             7.62   \n",
       "80   1830  United States  New York     10.32             8.52   \n",
       "90   1840  United States  New York      9.27             7.80   \n",
       "100  1850  United States  New York      9.10             7.90   \n",
       "110  1860  United States  New York      9.18             7.96   \n",
       "120  1870  United States  New York     10.04             8.20   \n",
       "130  1880  United States  New York      9.99             8.12   \n",
       "140  1890  United States  New York      9.62             7.97   \n",
       "150  1900  United States  New York     10.40             8.50   \n",
       "160  1910  United States  New York      9.55             8.22   \n",
       "170  1920  United States  New York      9.19             8.36   \n",
       "180  1930  United States  New York     10.22             8.63   \n",
       "190  1940  United States  New York      8.53             8.76   \n",
       "200  1950  United States  New York      9.72             8.37   \n",
       "\n",
       "     10_year_ma_temp  10_year_global_ma_temp  \n",
       "0                NaN                     NaN  \n",
       "10             8.333                   7.877  \n",
       "20             9.089                   8.032  \n",
       "40             9.117                   7.995  \n",
       "50             9.331                   8.387  \n",
       "60             9.682                   8.141  \n",
       "70             8.501                   7.322  \n",
       "80             9.588                   8.274  \n",
       "90             8.797                   7.666  \n",
       "100            9.194                   7.988  \n",
       "110            9.079                   8.071  \n",
       "120            9.087                   8.129  \n",
       "130            9.203                   8.269  \n",
       "140            9.110                   8.031  \n",
       "150            9.629                   8.204  \n",
       "160            9.233                   8.230  \n",
       "170            9.487                   8.295  \n",
       "180            9.728                   8.519  \n",
       "190            9.952                   8.655  \n",
       "200           10.116                   8.688  "
      ]
     },
     "execution_count": 10,
     "metadata": {},
     "output_type": "execute_result"
    }
   ],
   "source": [
    "df_ma.head(20)"
   ]
  },
  {
   "cell_type": "markdown",
   "metadata": {},
   "source": [
    "### Create variables for the change in 10-year moving average temperatures"
   ]
  },
  {
   "cell_type": "code",
   "execution_count": 11,
   "metadata": {},
   "outputs": [],
   "source": [
    "change_ny = pd.DataFrame(df_ma['10_year_ma_temp'].diff())\n",
    "change_global = pd.DataFrame(df_ma['10_year_global_ma_temp'].diff())"
   ]
  },
  {
   "cell_type": "markdown",
   "metadata": {},
   "source": [
    "# Visualizations."
   ]
  },
  {
   "cell_type": "markdown",
   "metadata": {},
   "source": [
    "### Here is a line chart that compares NY 10-year moving average temperatures against global 10-year moving average temperatures."
   ]
  },
  {
   "cell_type": "code",
   "execution_count": 12,
   "metadata": {},
   "outputs": [
    {
     "data": {
      "image/png": "[encoded data removed]",
      "text/plain": [
       "<Figure size 432x288 with 1 Axes>"
      ]
     },
     "metadata": {
      "needs_background": "light"
     },
     "output_type": "display_data"
    }
   ],
   "source": [
    "plt.plot('year', '10_year_ma_temp', data=df_ma, color='red', label = 'NY')\n",
    "plt.plot( 'year', '10_year_global_ma_temp', data=df_ma, color='blue', label = 'Global')\n",
    "plt.xlabel('Year')\n",
    "plt.ylabel('Average Temperature')\n",
    "plt.title('10-Year Moving Average Temp: NY vs Global')\n",
    "plt.legend();"
   ]
  },
  {
   "cell_type": "markdown",
   "metadata": {},
   "source": [
    "### Line chart for the change in temperature in 10 year periods."
   ]
  },
  {
   "cell_type": "code",
   "execution_count": 13,
   "metadata": {},
   "outputs": [],
   "source": [
    "x = df_ma['year']"
   ]
  },
  {
   "cell_type": "code",
   "execution_count": 14,
   "metadata": {},
   "outputs": [
    {
     "data": {
      "image/png": "[encoded data removed]",
      "text/plain": [
       "<Figure size 432x288 with 1 Axes>"
      ]
     },
     "metadata": {
      "needs_background": "light"
     },
     "output_type": "display_data"
    }
   ],
   "source": [
    "plt.plot(x, change_ny, color='red', label = 'NY')\n",
    "plt.plot( x, change_global, color='blue', label = 'Global')\n",
    "plt.xlabel('Year')\n",
    "plt.ylabel('Average Change Temperature')\n",
    "plt.title('Change in Temperatures Between 10 Year Periods')\n",
    "plt.legend();"
   ]
  },
  {
   "cell_type": "markdown",
   "metadata": {},
   "source": [
    "# Conclusion."
   ]
  },
  {
   "cell_type": "markdown",
   "metadata": {},
   "source": [
    "### Is your city hotter or cooler on average compared to the global average? Has the difference been consistent over time?"
   ]
  },
  {
   "cell_type": "markdown",
   "metadata": {},
   "source": [
    "The moving average of New York mean temperature is consistently greater than the moving average of global mean temperature. This means that my city is consistantly hotter than the average global temperature."
   ]
  },
  {
   "cell_type": "markdown",
   "metadata": {},
   "source": [
    "### How do the changes in your city’s temperatures over time compare to the changes in the global average?"
   ]
  },
  {
   "cell_type": "markdown",
   "metadata": {},
   "source": [
    "The New York temperatures and global temperatures both follow similar trends. They both make significant dips and rise back up during the same periods of time.\n",
    "They both trend upward overtime as well."
   ]
  },
  {
   "cell_type": "markdown",
   "metadata": {},
   "source": [
    "### What does the overall trend look like? Is the world getting hotter or cooler? Has the trend been consistent over the last few hundred years?"
   ]
  },
  {
   "cell_type": "markdown",
   "metadata": {},
   "source": [
    "There certainly is a positive correlation between time and warmer temperatures. Especially in the last roughly 150 years. Since around 1850 we have been in a consistent upward\n",
    "trend in both global and New York temperatures."
   ]
  },
  {
   "cell_type": "markdown",
   "metadata": {},
   "source": [
    "### Is the 10-year change in temperature in NY consistent with global 10 year temperature changes?"
   ]
  },
  {
   "cell_type": "markdown",
   "metadata": {},
   "source": [
    "Yes, the temperature change in NY makes almost the same fluctuations as global temperature changes. Up until the year 1900 they are nearly identical."
   ]
  },
  {
   "cell_type": "code",
   "execution_count": 16,
   "metadata": {},
   "outputs": [
    {
     "data": {
      "text/plain": [
       "0"
      ]
     },
     "execution_count": 16,
     "metadata": {},
     "output_type": "execute_result"
    }
   ],
   "source": [
    "import os\n",
    "os.system('jupyter nbconvert Weather_Trends.ipynb --to pdf')"
   ]
  },
  {
   "cell_type": "code",
   "execution_count": null,
   "metadata": {},
   "outputs": [],
   "source": []
  }
 ],
 "metadata": {
  "kernelspec": {
   "display_name": "Python 3",
   "language": "python",
   "name": "python3"
  },
  "language_info": {
   "codemirror_mode": {
    "name": "ipython",
    "version": 3
   },
   "file_extension": ".py",
   "mimetype": "text/x-python",
   "name": "python",
   "nbconvert_exporter": "python",
   "pygments_lexer": "ipython3",
   "version": "3.8.3"
  }
 },
 "nbformat": 4,
 "nbformat_minor": 4
}
